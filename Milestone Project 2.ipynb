{
 "cells": [
  {
   "cell_type": "code",
   "execution_count": 11,
   "id": "1cc07a12",
   "metadata": {},
   "outputs": [],
   "source": [
    "import random\n",
    "suits = ['Clubs', 'Diamonds', 'Hearts', 'Spades']\n",
    "ranks = ['Two','Three','Four','Five','Six','Seven','Eight','Nine','Ten','Jack','Queen','King','Ace']\n",
    "values = {'Two':2, 'Three':3, 'Four':4, 'Five':5, 'Six':6, 'Seven':7, 'Eight':8, 'Nine':9, 'Ten':10, 'Jack':11, 'Queen':12, 'King':13, 'Ace':14}"
   ]
  },
  {
   "cell_type": "code",
   "execution_count": 12,
   "id": "389d1e05",
   "metadata": {},
   "outputs": [],
   "source": [
    "class Card:\n",
    "    \n",
    "    def __init__(self, suit, rank):\n",
    "        self.suit = suit\n",
    "        self.rank = rank\n",
    "        self.value = values[rank]\n",
    "        \n",
    "    def __str__(self):\n",
    "        return self.rank + \" of \" + self.suit"
   ]
  },
  {
   "cell_type": "code",
   "execution_count": 13,
   "id": "84aa7615",
   "metadata": {},
   "outputs": [],
   "source": [
    "class Deck:\n",
    "    \n",
    "    def __init__(self):\n",
    "    \n",
    "        self.all_cards = []\n",
    "        \n",
    "        for suit in suits:\n",
    "            for rank in ranks:\n",
    "                \n",
    "                created_card = Card(suit,rank)\n",
    "                \n",
    "                self.all_cards.append(created_card)\n",
    "            \n",
    "    def shuffle(self):\n",
    "            \n",
    "        random.shuffle(self.all_cards)\n",
    "        \n",
    "    def deal_one(self):\n",
    "            \n",
    "        return self.all_cards.pop()     "
   ]
  },
  {
   "cell_type": "code",
   "execution_count": 14,
   "id": "09586b8f",
   "metadata": {},
   "outputs": [],
   "source": [
    "class Player:\n",
    "    \n",
    "    def __init__(self,name):\n",
    "        \n",
    "        self.name = name\n",
    "        self.all_cards = []\n",
    "    \n",
    "    def remove_one(self):\n",
    "        return self.all_cards.pop(0)\n",
    "    \n",
    "    def add_cards(self, new_cards):\n",
    "        if type(new_cards) == type([]):\n",
    "            self.all_cards.extend(new_cards)\n",
    "        else:\n",
    "            self.all_cards.append(new_cards)\n",
    "    \n",
    "    def __str__(self):\n",
    "        return f'Player {self.name} has {len(self.all_cards)} cards.'"
   ]
  },
  {
   "cell_type": "code",
   "execution_count": 15,
   "id": "49b7664c",
   "metadata": {},
   "outputs": [],
   "source": [
    "Player1 = Player(\"Jose\")\n",
    "Player2 = Player(\"Juan\")\n",
    "new_deck = Deck() \n",
    "new_deck.shuffle()\n",
    "\n",
    "for x in range(26):\n",
    "    Player1.add_cards(new_deck.deal_one())\n",
    "    Player2.add_cards(new_deck.deal_one())"
   ]
  },
  {
   "cell_type": "code",
   "execution_count": 16,
   "id": "24184180",
   "metadata": {},
   "outputs": [],
   "source": [
    "def game_start():\n",
    "    global game_on\n",
    "    round_num = 0\n",
    "    game_on = True\n",
    "    while game_on == True: \n",
    "        round_num += 1\n",
    "        print(f\"Round {round_num}\")\n",
    "        if len(Player1.all_cards) == 0:\n",
    "            print('Player1 is out of cards! Player2 wins!')\n",
    "            game_on = False\n",
    "            break\n",
    "        if len(Player2.all_cards) == 0:\n",
    "            print('Player2 is out of cards! Player1 wins!')\n",
    "            game_on = False\n",
    "            break\n",
    "        Player1_cards = []\n",
    "        Player1_cards.append(Player1.remove_one())\n",
    "        Player2_cards = []\n",
    "        Player2_cards.append(Player2.remove_one())\n",
    "        at_war = True\n",
    "        while at_war:\n",
    "            if Player1_cards[-1].value > Player2_cards[-1].value:\n",
    "                Player1.add_cards(Player1_cards)\n",
    "                Player1.add_cards(Player2_cards)\n",
    "                at_war = False\n",
    "            elif Player2_cards[-1].value > Player1_cards[-1].value:\n",
    "                Player2.add_cards(Player1_cards)\n",
    "                Player2.add_cards(Player2_cards)\n",
    "                at_war = False\n",
    "            else:\n",
    "                print('WAR!')\n",
    "                if len(Player1.all_cards) < 5:\n",
    "                    print('Player1 unable to declare war')\n",
    "                    print('Player2 Wins!')\n",
    "                    game_on = False\n",
    "                    break\n",
    "                elif len(Player2.all_cards) < 5:\n",
    "                    print('Player2 unable to declare war')\n",
    "                    print('Player1 Wins!')\n",
    "                    game_on = False\n",
    "                    break\n",
    "                else:\n",
    "                    for num in range(5):\n",
    "                        Player1_cards.append(Player1.remove_one())\n",
    "                        Player2_cards.append(Player2.remove_one())\n"
   ]
  },
  {
   "cell_type": "code",
   "execution_count": 17,
   "id": "7334ffcb",
   "metadata": {},
   "outputs": [
    {
     "name": "stdout",
     "output_type": "stream",
     "text": [
      "Round 1\n",
      "Round 2\n",
      "WAR!\n",
      "Round 3\n",
      "Round 4\n",
      "WAR!\n",
      "WAR!\n",
      "Round 5\n",
      "Round 6\n",
      "Round 7\n",
      "Round 8\n",
      "Round 9\n",
      "Round 10\n",
      "Round 11\n",
      "Round 12\n",
      "Round 13\n",
      "Round 14\n",
      "Round 15\n",
      "Round 16\n",
      "Round 17\n",
      "WAR!\n",
      "Round 18\n",
      "Round 19\n",
      "WAR!\n",
      "WAR!\n",
      "Player2 unable to declare war\n",
      "Player1 Wins!\n"
     ]
    }
   ],
   "source": [
    "game_start()"
   ]
  },
  {
   "cell_type": "code",
   "execution_count": null,
   "id": "83b9cbb1",
   "metadata": {},
   "outputs": [],
   "source": []
  }
 ],
 "metadata": {
  "kernelspec": {
   "display_name": "Python 3 (ipykernel)",
   "language": "python",
   "name": "python3"
  },
  "language_info": {
   "codemirror_mode": {
    "name": "ipython",
    "version": 3
   },
   "file_extension": ".py",
   "mimetype": "text/x-python",
   "name": "python",
   "nbconvert_exporter": "python",
   "pygments_lexer": "ipython3",
   "version": "3.9.12"
  }
 },
 "nbformat": 4,
 "nbformat_minor": 5
}
